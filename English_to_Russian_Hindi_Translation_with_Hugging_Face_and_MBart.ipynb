{
  "nbformat": 4,
  "nbformat_minor": 0,
  "metadata": {
    "colab": {
      "name": "English_to_Russian_Hindi_Translation_with_Hugging_Face_and_MBart.ipynb",
      "provenance": [],
      "include_colab_link": true
    },
    "kernelspec": {
      "name": "python3",
      "display_name": "Python 3"
    }
  },
  "cells": [
    {
      "cell_type": "markdown",
      "metadata": {
        "id": "view-in-github",
        "colab_type": "text"
      },
      "source": [
        "<a href=\"https://colab.research.google.com/github/aidarjpg/eng_to_ru_huggingface/blob/main/English_to_Russian_Hindi_Translation_with_Hugging_Face_and_MBart.ipynb\" target=\"_parent\"><img src=\"https://colab.research.google.com/assets/colab-badge.svg\" alt=\"Open In Colab\"/></a>"
      ]
    },
    {
      "cell_type": "code",
      "metadata": {
        "id": "yR0_MKOOeRNO"
      },
      "source": [
        "#!pip install transformers -U -q\n",
        "!pip install transformers -U -q"
      ],
      "execution_count": 25,
      "outputs": []
    },
    {
      "cell_type": "code",
      "metadata": {
        "colab": {
          "base_uri": "https://localhost:8080/"
        },
        "id": "2RtEvp3Me4va",
        "outputId": "489ba806-ac25-466c-de6b-7fd77accee23"
      },
      "source": [
        "! pip install sentencepiece"
      ],
      "execution_count": 26,
      "outputs": [
        {
          "output_type": "stream",
          "name": "stdout",
          "text": [
            "Requirement already satisfied: sentencepiece in /usr/local/lib/python3.7/dist-packages (0.1.96)\n"
          ]
        }
      ]
    },
    {
      "cell_type": "code",
      "metadata": {
        "colab": {
          "base_uri": "https://localhost:8080/"
        },
        "id": "OLwUoKhxD-jt",
        "outputId": "0a209ddd-4379-42e1-a850-26906b4a5e6e"
      },
      "source": [
        "!pip freeze | grep transformers"
      ],
      "execution_count": 27,
      "outputs": [
        {
          "output_type": "stream",
          "name": "stdout",
          "text": [
            "transformers==4.17.0\n"
          ]
        }
      ]
    },
    {
      "cell_type": "code",
      "metadata": {
        "id": "apok22zGeHWg"
      },
      "source": [
        "from transformers import MBartForConditionalGeneration, MBart50TokenizerFast\n"
      ],
      "execution_count": 28,
      "outputs": []
    },
    {
      "cell_type": "code",
      "metadata": {
        "id": "BQEzddKeeN2N"
      },
      "source": [
        "model = MBartForConditionalGeneration.from_pretrained(\"facebook/mbart-large-50-one-to-many-mmt\")\n",
        "\n"
      ],
      "execution_count": 30,
      "outputs": []
    },
    {
      "cell_type": "code",
      "metadata": {
        "id": "NJPI14dwX2oC"
      },
      "source": [
        "tokenizer = MBart50TokenizerFast.from_pretrained(\"facebook/mbart-large-50-one-to-many-mmt\", src_lang=\"en_XX\")\n"
      ],
      "execution_count": 31,
      "outputs": []
    },
    {
      "cell_type": "code",
      "metadata": {
        "id": "-mqJLyp4eZaj"
      },
      "source": [
        "import numpy as np\n",
        "import pandas as pd\n",
        "import matplotlib.pyplot as plt\n",
        "import re\n",
        "\n",
        "from sklearn.datasets import fetch_20newsgroups\n",
        "categories = [\n",
        "    'alt.atheism',\n",
        "    'talk.religion.misc',\n",
        "    'comp.graphics',\n",
        "    'sci.space'\n",
        "]\n",
        "data_train = fetch_20newsgroups(subset='train', \n",
        "\t\t\t\t\t\t\t\tremove=('headers', 'footers', 'quotes'),\n",
        "                                categories=categories, \n",
        "                                shuffle=True, random_state=42)\n",
        "data_train = str(data_train)\n",
        "data_train = data_train.strip()\n",
        "data_train = data_train.replace(\"\\\\n\", \" \")\n",
        "data_train = data_train.replace(\"\\\\\", \"\")\n",
        "raw_sentences = re.split(r' *[\\.\\?!][\\'\"\\)\\]]* *', data_train)\n",
        "raw_sentences = str(raw_sentences)\n",
        "sentences = re.findall('\"([^\"]*)\"', raw_sentences)\n",
        "while(\"\" in sentences):\n",
        "    sentences.remove(\"\")"
      ],
      "execution_count": 32,
      "outputs": []
    },
    {
      "cell_type": "code",
      "metadata": {
        "id": "Dzj93gO7f0Gc"
      },
      "source": [
        "# translate from English to Russian\n",
        "for sentence in sentences[:100]:\n",
        "  model_inputs = tokenizer(sentence, return_tensors=\"pt\")\n",
        "  generated_tokens = model.generate(\n",
        "    **model_inputs,\n",
        "    forced_bos_token_id=tokenizer.lang_code_to_id[\"ru_RU\"]\n",
        "  )\n",
        "  translation = tokenizer.batch_decode(generated_tokens, skip_special_tokens=True)\n",
        "  translation\n"
      ],
      "execution_count": null,
      "outputs": []
    }
  ]
}